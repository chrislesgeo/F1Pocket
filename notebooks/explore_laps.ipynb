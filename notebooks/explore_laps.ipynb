{
 "cells": [
  {
   "cell_type": "markdown",
   "metadata": {},
   "source": [
    "# F1 Data exploration\n",
    "Initial lap‑time sanity checks"
   ]
  },
  {
   "cell_type": "code",
   "execution_count": 3,
   "metadata": {},
   "outputs": [
    {
     "name": "stdout",
     "output_type": "stream",
     "text": [
      "laps: 37,579 drivers: 25\n"
     ]
    }
   ],
   "source": [
    "\n",
    "import duckdb, pandas as pd, matplotlib.pyplot as plt, seaborn as sns, polars as pl\n",
    "plt.style.use('seaborn-v0_8'); sns.set_palette('husl')\n",
    "con = duckdb.connect('../data/f1_data.db')\n",
    "laps = con.execute('SELECT * FROM laps WHERE NOT is_outlier').df()\n",
    "print(f'laps: {len(laps):,}', 'drivers:', laps.Driver.nunique())\n"
   ]
  },
  {
   "cell_type": "code",
   "execution_count": 5,
   "id": "5ec20256",
   "metadata": {},
   "outputs": [
    {
     "name": "stdout",
     "output_type": "stream",
     "text": [
      "🔍 F1 DATA VALIDATION REPORT\n",
      "==================================================\n",
      "📊 Total Records: 37,579\n",
      "🏁 Races: 34\n",
      "👤 Drivers: 25\n",
      "🏎️  Tracks: 19\n",
      "\n",
      "🔬 DATA QUALITY\n",
      "--------------------\n",
      "❌ Null lap times: 0 (0.0%)\n",
      "⚠️  Outlier laps: 0 (0.0%)\n",
      "🚨 Safety car laps: 604 (1.6%)\n",
      "⏱️  Lap times: 73.8s to 195.1s (avg: 90.8s ±11.6s)\n",
      "\n",
      "🛞 TYRE COMPOUNDS\n",
      "--------------------\n",
      "        Hard: 20,179 laps\n",
      "      Medium: 11,726 laps\n",
      "        Soft: 3,823 laps\n",
      "Intermediate: 1,750 laps\n",
      "         Wet: 66 laps\n",
      "\n",
      "📅 SEASON BREAKDOWN\n",
      "--------------------\n",
      "2024: 19,796 laps, 18 races\n",
      "2023: 17,783 laps, 16 races\n"
     ]
    }
   ],
   "source": [
    "import sys\n",
    "sys.path.append(\"../src\")\n",
    "from pocket_strategist.db_utils import F1Database\n",
    "\n",
    "db = F1Database(\"../data/f1_data.db\")\n",
    "db.validate_data()"
   ]
  },
  {
   "cell_type": "code",
   "execution_count": null,
   "id": "ea90c83d",
   "metadata": {},
   "outputs": [],
   "source": []
  }
 ],
 "metadata": {
  "kernelspec": {
   "display_name": "strategist",
   "language": "python",
   "name": "python3"
  },
  "language_info": {
   "codemirror_mode": {
    "name": "ipython",
    "version": 3
   },
   "file_extension": ".py",
   "mimetype": "text/x-python",
   "name": "python",
   "nbconvert_exporter": "python",
   "pygments_lexer": "ipython3",
   "version": "3.11.13"
  }
 },
 "nbformat": 4,
 "nbformat_minor": 5
}
